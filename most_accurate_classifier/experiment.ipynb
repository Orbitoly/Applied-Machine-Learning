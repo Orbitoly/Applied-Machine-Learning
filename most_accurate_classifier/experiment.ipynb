{
  "cells": [
    {
      "cell_type": "markdown",
      "id": "d11192b5",
      "metadata": {
        "id": "d11192b5"
      },
      "source": [
        "Firstly, we will load the data and try to get some conclusions about the type of the data and do the preliminary analysis."
      ]
    },
    {
      "cell_type": "code",
      "execution_count": 27,
      "id": "2be67ca2",
      "metadata": {
        "id": "2be67ca2"
      },
      "outputs": [],
      "source": [
        "import pickle\n",
        "import pandas as pd\n",
        "import matplotlib.pyplot as plt\n",
        "from sklearn.preprocessing import StandardScaler\n",
        "from sklearn.model_selection import train_test_split\n",
        "import numpy as np"
      ]
    },
    {
      "cell_type": "code",
      "execution_count": 28,
      "id": "ecac2f9d",
      "metadata": {
        "id": "ecac2f9d"
      },
      "outputs": [],
      "source": [
        "with open('./ass2.pickle', 'rb') as handle:\n",
        "        data = pickle.load(handle)"
      ]
    },
    {
      "cell_type": "code",
      "execution_count": 29,
      "id": "ecce09ae",
      "metadata": {
        "id": "ecce09ae"
      },
      "outputs": [],
      "source": [
        "X, y = data['train']\n",
        "df = pd.DataFrame(X)\n",
        "df['target'] = pd.DataFrame(y)"
      ]
    },
    {
      "cell_type": "code",
      "execution_count": 30,
      "id": "45dd79eb",
      "metadata": {
        "scrolled": false,
        "colab": {
          "base_uri": "https://localhost:8080/",
          "height": 382
        },
        "id": "45dd79eb",
        "outputId": "b59a36f5-facb-41c1-8b8b-925ef8e2fde9"
      },
      "outputs": [
        {
          "output_type": "stream",
          "name": "stdout",
          "text": [
            "(16280, 15)\n"
          ]
        },
        {
          "output_type": "execute_result",
          "data": {
            "text/plain": [
              "                f_0           f_1           f_2           f_3           f_4  \\\n",
              "count  16280.000000  16280.000000  1.628000e+04  16280.000000  16280.000000   \n",
              "mean      38.681880      3.871499  1.906293e+05     10.293919     10.072727   \n",
              "std       13.635203      1.456100  1.053524e+05      3.854012      2.577408   \n",
              "min       17.000000      0.000000  1.882700e+04      0.000000      1.000000   \n",
              "25%       28.000000      4.000000  1.188722e+05      9.000000      9.000000   \n",
              "50%       37.000000      4.000000  1.787780e+05     11.000000     10.000000   \n",
              "75%       48.000000      4.000000  2.374378e+05     12.000000     12.000000   \n",
              "max       90.000000      8.000000  1.184622e+06     15.000000     16.000000   \n",
              "\n",
              "                f_5           f_6           f_7           f_8           f_9  \\\n",
              "count  16280.000000  16280.000000  16280.000000  16280.000000  16280.000000   \n",
              "mean       2.606143      6.586794      1.441462      3.666953      0.667260   \n",
              "std        1.509407      4.232982      1.606590      0.846983      0.471209   \n",
              "min        0.000000      0.000000      0.000000      0.000000      0.000000   \n",
              "25%        2.000000      3.000000      0.000000      4.000000      0.000000   \n",
              "50%        2.000000      7.000000      1.000000      4.000000      1.000000   \n",
              "75%        4.000000     10.000000      3.000000      4.000000      1.000000   \n",
              "max        6.000000     14.000000      5.000000      4.000000      1.000000   \n",
              "\n",
              "               f_10          f_11          f_12          f_13        target  \n",
              "count  16280.000000  16280.000000  16280.000000  16280.000000  16280.000000  \n",
              "mean    1052.069595     90.635442     40.496437     36.653010      0.240786  \n",
              "std     7369.365288    410.807079     12.478762      7.915686      0.427574  \n",
              "min        0.000000      0.000000      1.000000      0.000000      0.000000  \n",
              "25%        0.000000      0.000000     40.000000     39.000000      0.000000  \n",
              "50%        0.000000      0.000000     40.000000     39.000000      0.000000  \n",
              "75%        0.000000      0.000000     45.000000     39.000000      0.000000  \n",
              "max    99999.000000   4356.000000     99.000000     41.000000      1.000000  "
            ],
            "text/html": [
              "\n",
              "  <div id=\"df-e8353938-c823-4351-82a9-1101de609ec7\">\n",
              "    <div class=\"colab-df-container\">\n",
              "      <div>\n",
              "<style scoped>\n",
              "    .dataframe tbody tr th:only-of-type {\n",
              "        vertical-align: middle;\n",
              "    }\n",
              "\n",
              "    .dataframe tbody tr th {\n",
              "        vertical-align: top;\n",
              "    }\n",
              "\n",
              "    .dataframe thead th {\n",
              "        text-align: right;\n",
              "    }\n",
              "</style>\n",
              "<table border=\"1\" class=\"dataframe\">\n",
              "  <thead>\n",
              "    <tr style=\"text-align: right;\">\n",
              "      <th></th>\n",
              "      <th>f_0</th>\n",
              "      <th>f_1</th>\n",
              "      <th>f_2</th>\n",
              "      <th>f_3</th>\n",
              "      <th>f_4</th>\n",
              "      <th>f_5</th>\n",
              "      <th>f_6</th>\n",
              "      <th>f_7</th>\n",
              "      <th>f_8</th>\n",
              "      <th>f_9</th>\n",
              "      <th>f_10</th>\n",
              "      <th>f_11</th>\n",
              "      <th>f_12</th>\n",
              "      <th>f_13</th>\n",
              "      <th>target</th>\n",
              "    </tr>\n",
              "  </thead>\n",
              "  <tbody>\n",
              "    <tr>\n",
              "      <th>count</th>\n",
              "      <td>16280.000000</td>\n",
              "      <td>16280.000000</td>\n",
              "      <td>1.628000e+04</td>\n",
              "      <td>16280.000000</td>\n",
              "      <td>16280.000000</td>\n",
              "      <td>16280.000000</td>\n",
              "      <td>16280.000000</td>\n",
              "      <td>16280.000000</td>\n",
              "      <td>16280.000000</td>\n",
              "      <td>16280.000000</td>\n",
              "      <td>16280.000000</td>\n",
              "      <td>16280.000000</td>\n",
              "      <td>16280.000000</td>\n",
              "      <td>16280.000000</td>\n",
              "      <td>16280.000000</td>\n",
              "    </tr>\n",
              "    <tr>\n",
              "      <th>mean</th>\n",
              "      <td>38.681880</td>\n",
              "      <td>3.871499</td>\n",
              "      <td>1.906293e+05</td>\n",
              "      <td>10.293919</td>\n",
              "      <td>10.072727</td>\n",
              "      <td>2.606143</td>\n",
              "      <td>6.586794</td>\n",
              "      <td>1.441462</td>\n",
              "      <td>3.666953</td>\n",
              "      <td>0.667260</td>\n",
              "      <td>1052.069595</td>\n",
              "      <td>90.635442</td>\n",
              "      <td>40.496437</td>\n",
              "      <td>36.653010</td>\n",
              "      <td>0.240786</td>\n",
              "    </tr>\n",
              "    <tr>\n",
              "      <th>std</th>\n",
              "      <td>13.635203</td>\n",
              "      <td>1.456100</td>\n",
              "      <td>1.053524e+05</td>\n",
              "      <td>3.854012</td>\n",
              "      <td>2.577408</td>\n",
              "      <td>1.509407</td>\n",
              "      <td>4.232982</td>\n",
              "      <td>1.606590</td>\n",
              "      <td>0.846983</td>\n",
              "      <td>0.471209</td>\n",
              "      <td>7369.365288</td>\n",
              "      <td>410.807079</td>\n",
              "      <td>12.478762</td>\n",
              "      <td>7.915686</td>\n",
              "      <td>0.427574</td>\n",
              "    </tr>\n",
              "    <tr>\n",
              "      <th>min</th>\n",
              "      <td>17.000000</td>\n",
              "      <td>0.000000</td>\n",
              "      <td>1.882700e+04</td>\n",
              "      <td>0.000000</td>\n",
              "      <td>1.000000</td>\n",
              "      <td>0.000000</td>\n",
              "      <td>0.000000</td>\n",
              "      <td>0.000000</td>\n",
              "      <td>0.000000</td>\n",
              "      <td>0.000000</td>\n",
              "      <td>0.000000</td>\n",
              "      <td>0.000000</td>\n",
              "      <td>1.000000</td>\n",
              "      <td>0.000000</td>\n",
              "      <td>0.000000</td>\n",
              "    </tr>\n",
              "    <tr>\n",
              "      <th>25%</th>\n",
              "      <td>28.000000</td>\n",
              "      <td>4.000000</td>\n",
              "      <td>1.188722e+05</td>\n",
              "      <td>9.000000</td>\n",
              "      <td>9.000000</td>\n",
              "      <td>2.000000</td>\n",
              "      <td>3.000000</td>\n",
              "      <td>0.000000</td>\n",
              "      <td>4.000000</td>\n",
              "      <td>0.000000</td>\n",
              "      <td>0.000000</td>\n",
              "      <td>0.000000</td>\n",
              "      <td>40.000000</td>\n",
              "      <td>39.000000</td>\n",
              "      <td>0.000000</td>\n",
              "    </tr>\n",
              "    <tr>\n",
              "      <th>50%</th>\n",
              "      <td>37.000000</td>\n",
              "      <td>4.000000</td>\n",
              "      <td>1.787780e+05</td>\n",
              "      <td>11.000000</td>\n",
              "      <td>10.000000</td>\n",
              "      <td>2.000000</td>\n",
              "      <td>7.000000</td>\n",
              "      <td>1.000000</td>\n",
              "      <td>4.000000</td>\n",
              "      <td>1.000000</td>\n",
              "      <td>0.000000</td>\n",
              "      <td>0.000000</td>\n",
              "      <td>40.000000</td>\n",
              "      <td>39.000000</td>\n",
              "      <td>0.000000</td>\n",
              "    </tr>\n",
              "    <tr>\n",
              "      <th>75%</th>\n",
              "      <td>48.000000</td>\n",
              "      <td>4.000000</td>\n",
              "      <td>2.374378e+05</td>\n",
              "      <td>12.000000</td>\n",
              "      <td>12.000000</td>\n",
              "      <td>4.000000</td>\n",
              "      <td>10.000000</td>\n",
              "      <td>3.000000</td>\n",
              "      <td>4.000000</td>\n",
              "      <td>1.000000</td>\n",
              "      <td>0.000000</td>\n",
              "      <td>0.000000</td>\n",
              "      <td>45.000000</td>\n",
              "      <td>39.000000</td>\n",
              "      <td>0.000000</td>\n",
              "    </tr>\n",
              "    <tr>\n",
              "      <th>max</th>\n",
              "      <td>90.000000</td>\n",
              "      <td>8.000000</td>\n",
              "      <td>1.184622e+06</td>\n",
              "      <td>15.000000</td>\n",
              "      <td>16.000000</td>\n",
              "      <td>6.000000</td>\n",
              "      <td>14.000000</td>\n",
              "      <td>5.000000</td>\n",
              "      <td>4.000000</td>\n",
              "      <td>1.000000</td>\n",
              "      <td>99999.000000</td>\n",
              "      <td>4356.000000</td>\n",
              "      <td>99.000000</td>\n",
              "      <td>41.000000</td>\n",
              "      <td>1.000000</td>\n",
              "    </tr>\n",
              "  </tbody>\n",
              "</table>\n",
              "</div>\n",
              "      <button class=\"colab-df-convert\" onclick=\"convertToInteractive('df-e8353938-c823-4351-82a9-1101de609ec7')\"\n",
              "              title=\"Convert this dataframe to an interactive table.\"\n",
              "              style=\"display:none;\">\n",
              "        \n",
              "  <svg xmlns=\"http://www.w3.org/2000/svg\" height=\"24px\"viewBox=\"0 0 24 24\"\n",
              "       width=\"24px\">\n",
              "    <path d=\"M0 0h24v24H0V0z\" fill=\"none\"/>\n",
              "    <path d=\"M18.56 5.44l.94 2.06.94-2.06 2.06-.94-2.06-.94-.94-2.06-.94 2.06-2.06.94zm-11 1L8.5 8.5l.94-2.06 2.06-.94-2.06-.94L8.5 2.5l-.94 2.06-2.06.94zm10 10l.94 2.06.94-2.06 2.06-.94-2.06-.94-.94-2.06-.94 2.06-2.06.94z\"/><path d=\"M17.41 7.96l-1.37-1.37c-.4-.4-.92-.59-1.43-.59-.52 0-1.04.2-1.43.59L10.3 9.45l-7.72 7.72c-.78.78-.78 2.05 0 2.83L4 21.41c.39.39.9.59 1.41.59.51 0 1.02-.2 1.41-.59l7.78-7.78 2.81-2.81c.8-.78.8-2.07 0-2.86zM5.41 20L4 18.59l7.72-7.72 1.47 1.35L5.41 20z\"/>\n",
              "  </svg>\n",
              "      </button>\n",
              "      \n",
              "  <style>\n",
              "    .colab-df-container {\n",
              "      display:flex;\n",
              "      flex-wrap:wrap;\n",
              "      gap: 12px;\n",
              "    }\n",
              "\n",
              "    .colab-df-convert {\n",
              "      background-color: #E8F0FE;\n",
              "      border: none;\n",
              "      border-radius: 50%;\n",
              "      cursor: pointer;\n",
              "      display: none;\n",
              "      fill: #1967D2;\n",
              "      height: 32px;\n",
              "      padding: 0 0 0 0;\n",
              "      width: 32px;\n",
              "    }\n",
              "\n",
              "    .colab-df-convert:hover {\n",
              "      background-color: #E2EBFA;\n",
              "      box-shadow: 0px 1px 2px rgba(60, 64, 67, 0.3), 0px 1px 3px 1px rgba(60, 64, 67, 0.15);\n",
              "      fill: #174EA6;\n",
              "    }\n",
              "\n",
              "    [theme=dark] .colab-df-convert {\n",
              "      background-color: #3B4455;\n",
              "      fill: #D2E3FC;\n",
              "    }\n",
              "\n",
              "    [theme=dark] .colab-df-convert:hover {\n",
              "      background-color: #434B5C;\n",
              "      box-shadow: 0px 1px 3px 1px rgba(0, 0, 0, 0.15);\n",
              "      filter: drop-shadow(0px 1px 2px rgba(0, 0, 0, 0.3));\n",
              "      fill: #FFFFFF;\n",
              "    }\n",
              "  </style>\n",
              "\n",
              "      <script>\n",
              "        const buttonEl =\n",
              "          document.querySelector('#df-e8353938-c823-4351-82a9-1101de609ec7 button.colab-df-convert');\n",
              "        buttonEl.style.display =\n",
              "          google.colab.kernel.accessAllowed ? 'block' : 'none';\n",
              "\n",
              "        async function convertToInteractive(key) {\n",
              "          const element = document.querySelector('#df-e8353938-c823-4351-82a9-1101de609ec7');\n",
              "          const dataTable =\n",
              "            await google.colab.kernel.invokeFunction('convertToInteractive',\n",
              "                                                     [key], {});\n",
              "          if (!dataTable) return;\n",
              "\n",
              "          const docLinkHtml = 'Like what you see? Visit the ' +\n",
              "            '<a target=\"_blank\" href=https://colab.research.google.com/notebooks/data_table.ipynb>data table notebook</a>'\n",
              "            + ' to learn more about interactive tables.';\n",
              "          element.innerHTML = '';\n",
              "          dataTable['output_type'] = 'display_data';\n",
              "          await google.colab.output.renderOutput(dataTable, element);\n",
              "          const docLink = document.createElement('div');\n",
              "          docLink.innerHTML = docLinkHtml;\n",
              "          element.appendChild(docLink);\n",
              "        }\n",
              "      </script>\n",
              "    </div>\n",
              "  </div>\n",
              "  "
            ]
          },
          "metadata": {},
          "execution_count": 30
        }
      ],
      "source": [
        "print(df.shape)\n",
        "df.describe()"
      ]
    },
    {
      "cell_type": "markdown",
      "id": "c4d9561a",
      "metadata": {
        "id": "c4d9561a"
      },
      "source": [
        "First, we can notice that we have about 16.3K samples. By looking at the shape of the dataset, we can conclude that we have 14 features. We can see that all of the features are numerical. The ranges of the values are not the same, for example f1 is between 0-8 and f2 is between 18,827 to 1,184,622. Therefore we can consider to scale the values.\n",
        "Lets take a more specific look at the data."
      ]
    },
    {
      "cell_type": "code",
      "execution_count": 31,
      "id": "9d4ab163",
      "metadata": {
        "colab": {
          "base_uri": "https://localhost:8080/"
        },
        "id": "9d4ab163",
        "outputId": "86453b12-eaa8-410f-c849-063ea567a2f7"
      },
      "outputs": [
        {
          "output_type": "execute_result",
          "data": {
            "text/plain": [
              "(6, 15)"
            ]
          },
          "metadata": {},
          "execution_count": 31
        }
      ],
      "source": [
        "duplicate_rows = df[df.duplicated()]\n",
        "duplicate_rows.shape"
      ]
    },
    {
      "cell_type": "markdown",
      "id": "1eb8fcb1",
      "metadata": {
        "id": "1eb8fcb1"
      },
      "source": [
        "We can see that we have only about 6 duplicated rows, which is a negligible amount, so we won't take care of it."
      ]
    },
    {
      "cell_type": "code",
      "execution_count": 12,
      "id": "d752fdff",
      "metadata": {
        "scrolled": true,
        "colab": {
          "base_uri": "https://localhost:8080/",
          "height": 879
        },
        "id": "d752fdff",
        "outputId": "c916b465-a2b2-448b-d225-c407fa7c9479"
      },
      "outputs": [
        {
          "output_type": "display_data",
          "data": {
            "text/plain": [
              "<Figure size 1080x1080 with 16 Axes>"
            ],
            "image/png": "[encoded data removed]"
          },
          "metadata": {
            "needs_background": "light"
          }
        }
      ],
      "source": [
        "histogram = df.hist(figsize=(15, 15))"
      ]
    },
    {
      "cell_type": "markdown",
      "id": "297d8e43",
      "metadata": {
        "id": "297d8e43"
      },
      "source": [
        "First, we can see from the \"target\" column that the supplied train dataset is **unbalanced**.\n",
        "about 12K rows with class 0 VS 4K rows with class 1.\n",
        "We will balance this later.\n",
        "Also, we can see that **f10, f11, f13** have almost everywhere the **same** value.\n",
        "We will check if they affect the target, and maybe remove them with in the **feature-selection** part."
      ]
    },
    {
      "cell_type": "markdown",
      "id": "3209b0a8",
      "metadata": {
        "id": "3209b0a8"
      },
      "source": [
        "Next, lets check for missing values."
      ]
    },
    {
      "cell_type": "code",
      "execution_count": 13,
      "id": "097f2bb3",
      "metadata": {
        "colab": {
          "base_uri": "https://localhost:8080/"
        },
        "id": "097f2bb3",
        "outputId": "45ef7429-756d-4158-b4ac-806277c2fd9c"
      },
      "outputs": [
        {
          "output_type": "execute_result",
          "data": {
            "text/plain": [
              "f_0       0\n",
              "f_1       0\n",
              "f_10      0\n",
              "f_11      0\n",
              "f_12      0\n",
              "f_13      0\n",
              "f_2       0\n",
              "f_3       0\n",
              "f_4       0\n",
              "f_5       0\n",
              "f_6       0\n",
              "f_7       0\n",
              "f_8       0\n",
              "f_9       0\n",
              "target    0\n",
              "dtype: int64"
            ]
          },
          "metadata": {},
          "execution_count": 13
        }
      ],
      "source": [
        "df.isnull().sum().sort_index()"
      ]
    },
    {
      "cell_type": "markdown",
      "id": "cdd5e9dc",
      "metadata": {
        "id": "cdd5e9dc"
      },
      "source": [
        "We can see that there are no missing values. Next, lets check the correlation between the different features and try to get more knowledge about the data"
      ]
    },
    {
      "cell_type": "code",
      "execution_count": 14,
      "id": "f823a682",
      "metadata": {
        "colab": {
          "base_uri": "https://localhost:8080/",
          "height": 425
        },
        "id": "f823a682",
        "outputId": "29403740-1ea5-4877-ac8b-9fb88ca8583c"
      },
      "outputs": [
        {
          "output_type": "display_data",
          "data": {
            "text/plain": [
              "<Figure size 504x504 with 2 Axes>"
            ],
            "image/png": "[encoded data removed]"
          },
          "metadata": {
            "needs_background": "light"
          }
        }
      ],
      "source": [
        "f = plt.figure(figsize=(7, 7))\n",
        "plt.matshow(df.corr(), fignum=f.number)\n",
        "cb = plt.colorbar()\n",
        "cb.ax.tick_params(labelsize=9)\n",
        "plt.title('Correlation Matrix', fontsize=13);\n",
        "plt.show()"
      ]
    },
    {
      "cell_type": "markdown",
      "id": "ebed6579",
      "metadata": {
        "id": "ebed6579"
      },
      "source": [
        "Unfortunately, there is no obvious linear correlation between the diffrent features. Maybe a small negative linear correlation between f9 and f7. Hence, we may only need one of them. We will check that later in the feature selection part. Also, f3 and f4 are also seem a little bit correlated."
      ]
    },
    {
      "cell_type": "markdown",
      "id": "9f2488dc",
      "metadata": {
        "id": "9f2488dc"
      },
      "source": [
        "To select the right model, we shall look at the train dataset as the whole data we have, and split it into train and test. We keep a random state, so that the results won't change due to the randomality of the split.\n",
        "We want a validation test because we are conducting expereminets, and check their results on a \"test set\" which should be disjoint from the real test, so we won't have data-leaks and make desicions on a model which was trained on some data from the test dataset."
      ]
    },
    {
      "cell_type": "code",
      "execution_count": 62,
      "id": "b8458869",
      "metadata": {
        "id": "b8458869"
      },
      "outputs": [],
      "source": [
        "X = df.drop(columns = ['target']).copy()\n",
        "y = df['target']\n",
        "\n",
        "X_train, X_rem, y_train, y_rem = train_test_split(X,y, train_size=0.8, random_state = 42)\n",
        "X_valid, X_test, y_valid, y_test = train_test_split(X_rem,y_rem, test_size=0.5, random_state = 42)"
      ]
    },
    {
      "cell_type": "markdown",
      "id": "ce303a5b",
      "metadata": {
        "id": "ce303a5b"
      },
      "source": [
        "**Data Balancing**-\n",
        "Next, let's try to handle with the fact that the dataset is imbalanced. We have serveral options: One is the decrease the size of the dataset and remove samples from the samples with the major class. Another one, is try to duplicate and change a little bit the samples from the other class. The last option we can think of, is to select a metric which takes into account the fact that the data is imbalanced. For example the balanced_accuracy_score metric. \n",
        "We will try the 3 methods with a well known algorithm, such as AdaBoost and see what are the differences between the 3 methods."
      ]
    },
    {
      "cell_type": "code",
      "execution_count": 63,
      "id": "a994f703",
      "metadata": {
        "colab": {
          "base_uri": "https://localhost:8080/",
          "height": 516
        },
        "id": "a994f703",
        "outputId": "242350c5-a7d9-46d8-e60e-cfaaf9fa5f1b"
      },
      "outputs": [
        {
          "output_type": "stream",
          "name": "stdout",
          "text": [
            "undersamples dataset balanced accuracy score:  0.8285398585663774\n",
            "undersamples dataset accuracy score:  0.8224815724815725\n",
            "undersamples dataset f1 score:  0.7035897435897436\n",
            "\n",
            "oversamples dataset balanced accuracy score:  0.8129781420765028\n",
            "oversamples dataset accuracy score:  0.8028255528255528\n",
            "oversamples dataset f1 score:  0.6793206793206794\n",
            "\n",
            "original dataset balanced accuracy score:  0.7744093539054966\n",
            "original dataset accuracy score:  0.8562653562653563\n",
            "original dataset f1 score:  0.680327868852459\n"
          ]
        },
        {
          "output_type": "display_data",
          "data": {
            "text/plain": [
              "<Figure size 360x360 with 1 Axes>"
            ],
            "image/png": "[encoded data removed]"
          },
          "metadata": {
            "needs_background": "light"
          }
        }
      ],
      "source": [
        "from sklearn.ensemble import AdaBoostClassifier\n",
        "from sklearn.metrics import f1_score\n",
        "from sklearn.metrics import accuracy_score\n",
        "from sklearn.metrics import balanced_accuracy_score\n",
        "from sklearn.utils import resample\n",
        "import random\n",
        "\n",
        "from imblearn.over_sampling import RandomOverSampler\n",
        "from imblearn.under_sampling import RandomUnderSampler \n",
        "\n",
        "import matplotlib.pyplot as plt\n",
        "\n",
        "ros = RandomOverSampler(random_state=42)\n",
        "rus = RandomUnderSampler(random_state=42)\n",
        "\n",
        "oversampled_X, oversampled_y = ros.fit_resample(X_train, y_train)\n",
        "undersampled_X,undersampled_y = rus.fit_resample(X_train, y_train)\n",
        "histogram = y_train.hist(figsize=(5, 5))\n",
        "\n",
        "\n",
        "train_dataset = pd.concat([X_train, y_train], axis=1)\n",
        "\n",
        "class0_samples = train_dataset[y_train == 0]\n",
        "class1_samples = train_dataset[y_train == 1]\n",
        "\n",
        "#undersample - select less from majority class\n",
        "class0_selected_idx = random.sample(class0_samples.index.tolist(), len(class1_samples))\n",
        "class0_selected_samples = class0_samples.loc[class0_selected_idx]\n",
        "undersampled_df = pd.concat([class0_selected_samples, class1_samples], axis=0)\n",
        "undersampled_X = undersampled_df.loc[:,  undersampled_df.columns != \"target\"]\n",
        "undersampled_y = undersampled_df['target']\n",
        "clf = AdaBoostClassifier().fit(undersampled_X, undersampled_y)\n",
        "y_pred = clf.predict(X_valid)\n",
        "print('undersamples dataset balanced accuracy score: ', balanced_accuracy_score(y_valid, y_pred))\n",
        "print('undersamples dataset accuracy score: ', accuracy_score(y_valid, y_pred))\n",
        "print('undersamples dataset f1 score: ', f1_score(y_valid, y_pred))\n",
        "\n",
        "#oversample - add samples to the minority class\n",
        "class1_extra_samples = resample(class1_samples, replace=True, n_samples=len(class0_samples))\n",
        "oversampled_df = pd.concat([class0_samples, class1_extra_samples], axis=0)\n",
        "oversampled_X = oversampled_df.loc[:,  oversampled_df.columns != \"target\"]\n",
        "oversampled_y = oversampled_df['target']\n",
        "\n",
        "oversampled_X = X_resampled\n",
        "oversampled_Y = y_resampled\n",
        "\n",
        "clf = AdaBoostClassifier().fit(oversampled_X, oversampled_y)\n",
        "y_pred = clf.predict(X_valid)\n",
        "print('\\noversamples dataset balanced accuracy score: ', balanced_accuracy_score(y_valid, y_pred))\n",
        "print('oversamples dataset accuracy score: ', accuracy_score(y_valid, y_pred))\n",
        "print('oversamples dataset f1 score: ', f1_score(y_valid, y_pred))\n",
        "\n",
        "\n",
        "#choose another metric (which is not accuracy_score)\n",
        "clf = AdaBoostClassifier().fit(X_train, y_train)\n",
        "y_pred = clf.predict(X_valid)\n",
        "print('\\noriginal dataset balanced accuracy score: ', balanced_accuracy_score(y_valid, y_pred))\n",
        "print('original dataset accuracy score: ', accuracy_score(y_valid, y_pred))\n",
        "print('original dataset f1 score: ', f1_score(y_valid, y_pred))\n"
      ]
    },
    {
      "cell_type": "markdown",
      "id": "957ffc97",
      "metadata": {
        "id": "957ffc97"
      },
      "source": [
        "From looking at the balanced accuracy score, which takes into consideration the proportions of each class, that changing the dataset is better(whether we remove or add samples). There is no major difference between oversampling and undersampling, but we would rather to add data so we won't lose data, so we will choose to oversample the data"
      ]
    },
    {
      "cell_type": "code",
      "execution_count": 65,
      "id": "1b8e4ec8",
      "metadata": {
        "id": "1b8e4ec8"
      },
      "outputs": [],
      "source": [
        "X_train, y_train = oversampled_X, oversampled_y"
      ]
    },
    {
      "cell_type": "markdown",
      "id": "1071ba9e",
      "metadata": {
        "id": "1071ba9e"
      },
      "source": [
        "Next, lets do some feature selection. We expect to see that f10, f11 and f13 are not very informative for the classification, since their variance is pretty low (according to the histogram)"
      ]
    },
    {
      "cell_type": "markdown",
      "id": "4654d575",
      "metadata": {
        "id": "4654d575"
      },
      "source": [
        "We will try two methods. The first one is to manually remove f10, f11 and f13 and see how it affects the model. The second one is to let a feature selection algorithm to remove 3 features and see if the algoritm chooses to remove f10, f11 and f13."
      ]
    },
    {
      "cell_type": "code",
      "execution_count": 66,
      "id": "62c979f9",
      "metadata": {
        "colab": {
          "base_uri": "https://localhost:8080/"
        },
        "id": "62c979f9",
        "outputId": "073e03d4-c2e3-41aa-b676-308036120ffb"
      },
      "outputs": [
        {
          "output_type": "stream",
          "name": "stdout",
          "text": [
            "Manual selection accuracy score:  0.812970106075217\n",
            "SelectKBest accuracy score:  0.8272862423657987\n"
          ]
        }
      ],
      "source": [
        "from sklearn.feature_selection import SelectKBest, chi2\n",
        "from xgboost import XGBClassifier\n",
        "from sklearn.metrics import accuracy_score\n",
        "\n",
        "#(1) manually remove\n",
        "X_train_manually_removed_features = X_train.copy().drop(columns=['f_10', 'f_11', 'f_13'])\n",
        "X_valid_manually_removed_features = X_valid.copy().drop(columns=['f_10', 'f_11', 'f_13'])\n",
        "y_pred = XGBClassifier().fit(X_train_manually_removed_features, y_train).predict(X_valid_manually_removed_features)\n",
        "print('Manual selection accuracy score: ', balanced_accuracy_score(y_valid, y_pred))\n",
        "\n",
        "#(2) SelectKBest\n",
        "selected_features_algorithm = SelectKBest(chi2, k=11).fit(X_train,y_train)\n",
        "X_train_algorithm_removed_features = selected_features_algorithm.transform(X_train)\n",
        "X_valid_algorithm_removed_features = selected_features_algorithm.transform(X_valid)\n",
        "y_pred = XGBClassifier().fit(X_train_algorithm_removed_features, y_train).predict(X_valid_algorithm_removed_features)\n",
        "print('SelectKBest accuracy score: ', balanced_accuracy_score(y_valid, y_pred))\n"
      ]
    },
    {
      "cell_type": "markdown",
      "id": "cf4a200a",
      "metadata": {
        "id": "cf4a200a"
      },
      "source": [
        "Oh well, I guess my intuition is not that good. We will stick with SelectKBest algorithm. But lets now run another last test to find the best number of features:"
      ]
    },
    {
      "cell_type": "code",
      "execution_count": 67,
      "id": "54dcc260",
      "metadata": {
        "colab": {
          "base_uri": "https://localhost:8080/",
          "height": 388
        },
        "id": "54dcc260",
        "outputId": "206a7d9c-dc50-41f8-9593-f8a100b93159"
      },
      "outputs": [
        {
          "output_type": "display_data",
          "data": {
            "text/plain": [
              "<Figure size 936x360 with 1 Axes>"
            ],
            "image/png": "[encoded data removed]"
          },
          "metadata": {
            "needs_background": "light"
          }
        },
        {
          "output_type": "stream",
          "name": "stdout",
          "text": [
            "[0.7942260442260443, 0.8224815724815725, 0.6363636363636364, 0.652948402948403, 0.6885749385749386, 0.7745700245700246, 0.8101965601965602, 0.812039312039312, 0.812039312039312, 0.8132678132678133, 0.8132678132678133, 0.812039312039312, 0.8132678132678133, 0.812039312039312]\n"
          ]
        }
      ],
      "source": [
        "results = []\n",
        "k_list = list(range(1,15))\n",
        "for i in k_list:\n",
        "    selected_features = SelectKBest(chi2, k=i).fit(X_train, y_train)\n",
        "    selected_X_train = selected_features.transform(X_train)\n",
        "    selected_X_valid = selected_features.transform(X_valid)\n",
        "    clf = XGBClassifier().fit(selected_X_train, y_train)\n",
        "    y_pred = clf.predict(selected_X_valid)\n",
        "    results.append(accuracy_score(y_valid, y_pred))\n",
        "\n",
        "plt.figure(figsize=(13,5))\n",
        "plt.title('K Feature Selected Accuracy')\n",
        "plt.xlabel('K')\n",
        "plt.ylabel('Prediction accuracy')\n",
        "plt.scatter(k_list, results, marker='o', color='red')   \n",
        "plt.xticks(k_list)\n",
        "plt.show()\n",
        "print(results)"
      ]
    },
    {
      "cell_type": "markdown",
      "id": "7f56101f",
      "metadata": {
        "id": "7f56101f"
      },
      "source": [
        "We can see that from k=9, the model accuracy does not change a lot. k=12 is the best, but the difference is minor. We will pick k=12."
      ]
    },
    {
      "cell_type": "code",
      "execution_count": 68,
      "id": "9454079f",
      "metadata": {
        "colab": {
          "base_uri": "https://localhost:8080/"
        },
        "id": "9454079f",
        "outputId": "816a4065-bd70-496d-8d82-e0964568670b"
      },
      "outputs": [
        {
          "output_type": "stream",
          "name": "stdout",
          "text": [
            "The selected features are:  ['f_0' 'f_2' 'f_3' 'f_4' 'f_5' 'f_6' 'f_7' 'f_9' 'f_10' 'f_11' 'f_12'\n",
            " 'f_13']\n"
          ]
        }
      ],
      "source": [
        "selected_features = SelectKBest(chi2, k=12).fit(X_train, y_train)\n",
        "print('The selected features are: ', selected_features.get_feature_names_out())"
      ]
    },
    {
      "cell_type": "code",
      "execution_count": 69,
      "id": "cee02eb7",
      "metadata": {
        "id": "cee02eb7"
      },
      "outputs": [],
      "source": [
        "X_train = selected_features.transform(X_train)\n",
        "X_valid = selected_features.transform(X_valid)\n",
        "X_test = selected_features.transform(X_test)"
      ]
    },
    {
      "cell_type": "markdown",
      "id": "b9812243",
      "metadata": {
        "id": "b9812243"
      },
      "source": [
        "Now, lets try to scale the data a little bit"
      ]
    },
    {
      "cell_type": "code",
      "execution_count": 70,
      "id": "d0d8feea",
      "metadata": {
        "id": "d0d8feea"
      },
      "outputs": [],
      "source": [
        "from sklearn.preprocessing import RobustScaler\n",
        "\n",
        "scaler = RobustScaler()\n",
        "X_train_scaled = scaler.fit_transform(X_train)\n",
        "X_valid_scaled = scaler.transform(X_valid)\n",
        "X_test_scaled = scaler.transform(X_test)"
      ]
    },
    {
      "cell_type": "markdown",
      "id": "a611a3c8",
      "metadata": {
        "id": "a611a3c8"
      },
      "source": [
        "Now, after we cleaned the data and changed it a little bit, the next step is to select the right classification algorithm! For that purpose we check some known classification models, and see which one is the best."
      ]
    },
    {
      "cell_type": "code",
      "execution_count": 71,
      "id": "29e5ad32",
      "metadata": {
        "scrolled": true,
        "colab": {
          "base_uri": "https://localhost:8080/",
          "height": 350
        },
        "id": "29e5ad32",
        "outputId": "a14c23d5-2b28-47c9-d7af-448d712695ca"
      },
      "outputs": [
        {
          "output_type": "display_data",
          "data": {
            "text/plain": [
              "<Figure size 936x360 with 1 Axes>"
            ],
            "image/png": "[encoded data removed]"
          },
          "metadata": {
            "needs_background": "light"
          }
        }
      ],
      "source": [
        "from sklearn.svm import SVC\n",
        "from sklearn.linear_model import LogisticRegression\n",
        "from sklearn.neighbors import KNeighborsClassifier\n",
        "from sklearn.ensemble import RandomForestClassifier\n",
        "from sklearn.naive_bayes import GaussianNB\n",
        "from sklearn.ensemble import GradientBoostingClassifier\n",
        "from sklearn.ensemble import AdaBoostClassifier\n",
        "from sklearn.dummy import DummyClassifier\n",
        "from sklearn.metrics import accuracy_score\n",
        "from xgboost import XGBClassifier\n",
        "from sklearn.metrics import classification_report\n",
        "\n",
        "models = [\n",
        "          ('SVC', SVC()), \n",
        "          ('LogisticRegression', LogisticRegression(max_iter=15000)), \n",
        "          ('KNN', KNeighborsClassifier()),\n",
        "          ('XGBoost', XGBClassifier()),\n",
        "          ('RandomForest', RandomForestClassifier()),\n",
        "          ('NaiveBayes', GaussianNB()),\n",
        "          ('GradientBoosting', GradientBoostingClassifier()),\n",
        "          ('AdaBoost', AdaBoostClassifier()),\n",
        "          ('Dummy', DummyClassifier())\n",
        "         ]\n",
        "\n",
        "names = [name for (name, model) in models]\n",
        "results = []\n",
        "\n",
        "for name,model in models:\n",
        "    clf = model.fit(X_train_scaled, y_train)\n",
        "    y_pred = clf.predict(X_valid_scaled)\n",
        "    results.append(accuracy_score(y_valid, y_pred))\n",
        "    \n",
        "\n",
        "#some plotting configurations\n",
        "x = np.array(range(len(models)))\n",
        "plt.figure(figsize=(13,5))\n",
        "plt.title('Classification Algorithms Accuracy')\n",
        "plt.xlabel('Algorithm')\n",
        "plt.ylabel('Prediction accuracy')\n",
        "plt.scatter(x, results, marker='o', color='red')   \n",
        "plt.xticks(x, names)\n",
        "plt.show()\n"
      ]
    },
    {
      "cell_type": "markdown",
      "id": "4bc4333a",
      "metadata": {
        "id": "4bc4333a"
      },
      "source": [
        "From that experiment, we can see that the strongest algorithm is XGboost / GradientBoosting / RandomForest is also pretty good. So we will stick with that. In the next part, we will try to see which one is the best.\n",
        "We will try and find the best hyper-parameters for each algorithm."
      ]
    },
    {
      "cell_type": "markdown",
      "id": "88d16692",
      "metadata": {
        "id": "88d16692"
      },
      "source": [
        "In the RandomForest algorithm, we will try and get the optimal values for the next hyper-parameters: n_estimators, max_depth, min_samples_split, max_features, bootstrap"
      ]
    },
    {
      "cell_type": "markdown",
      "source": [
        "We will do a Hyper Parameter search, using RandomizedSearch.\n"
      ],
      "metadata": {
        "id": "_Y5TOdudfrqc"
      },
      "id": "_Y5TOdudfrqc"
    },
    {
      "cell_type": "code",
      "source": [
        "params = {\n",
        "    'n_estimators': [100, 200, 300 ,500, 1000],\n",
        "    'max_depth': [3, 5, 8, 10],\n",
        "    'min_samples_split': [2, 8, 10, 12],\n",
        "    'min_samples_leaf': [1, 3, 4, 5]\n",
        "}\n",
        "\n",
        "random_forest = RandomForestClassifier()\n",
        "grid_search = GridSearchCV(estimator = random_forest, param_grid = params, cv = 3, n_jobs = -1, verbose = 2)\n",
        "grid_search.fit(X_train_scaled, y_train)"
      ],
      "metadata": {
        "id": "f-Nr7dMTVblh"
      },
      "id": "f-Nr7dMTVblh",
      "execution_count": null,
      "outputs": []
    },
    {
      "cell_type": "code",
      "source": [
        "print(grid_search.best_params_)"
      ],
      "metadata": {
        "id": "pfy2hscqVfPq"
      },
      "id": "pfy2hscqVfPq",
      "execution_count": null,
      "outputs": []
    },
    {
      "cell_type": "markdown",
      "source": [
        "We get that the best parms are:\n",
        "{'max_depth': 10, 'min_samples_leaf': 1, 'min_samples_split': 2, 'n_estimators': 500}\n",
        "Lets apply those and check accuracy"
      ],
      "metadata": {
        "id": "nPXODLfbVfvz"
      },
      "id": "nPXODLfbVfvz"
    },
    {
      "cell_type": "code",
      "source": [
        "optimized_random_forest = RandomForestClassifier(max_depth=10, min_samples_leaf=1, min_samples_split=2, n_estimators=500)\n",
        "optimized_random_forest.fit(X_train_scaled, y_train)\n",
        "y_pred = optimized_random_forest.predict(X_valid_scaled)\n",
        "result = balanced_accuracy_score(y_valid, y_pred)\n",
        "print(\"Random forest with hyper parms: \" ,result)"
      ],
      "metadata": {
        "colab": {
          "base_uri": "https://localhost:8080/"
        },
        "id": "7EyZXJLIVvTd",
        "outputId": "2c86d392-5626-4ae4-9982-72fc4efcc314"
      },
      "id": "7EyZXJLIVvTd",
      "execution_count": 79,
      "outputs": [
        {
          "output_type": "stream",
          "name": "stdout",
          "text": [
            "Random forest with hyper parms:  0.8227981356477017\n"
          ]
        }
      ]
    },
    {
      "cell_type": "code",
      "source": [
        "clf = RandomForestClassifier().fit(X_train_scaled, y_train)\n",
        "y_pred = clf.predict(X_valid_scaled)\n",
        "result = balanced_accuracy_score(y_valid, y_pred)\n",
        "print(\"Random forest with hyper parms: \",result)"
      ],
      "metadata": {
        "colab": {
          "base_uri": "https://localhost:8080/"
        },
        "id": "12zMi8pBVwTF",
        "outputId": "ca5e9624-7071-4af3-dccf-23ce9cfb23b9"
      },
      "id": "12zMi8pBVwTF",
      "execution_count": 80,
      "outputs": [
        {
          "output_type": "stream",
          "name": "stdout",
          "text": [
            "Random forest with hyper parms:  0.746914175506268\n"
          ]
        }
      ]
    },
    {
      "cell_type": "markdown",
      "source": [
        "We can see the hyper parms were not an improvment :("
      ],
      "metadata": {
        "id": "y2Z9n7_UWJoe"
      },
      "id": "y2Z9n7_UWJoe"
    },
    {
      "cell_type": "markdown",
      "source": [
        "**Lets try with XGBoost!**"
      ],
      "metadata": {
        "id": "PE2Qwzh0WQAu"
      },
      "id": "PE2Qwzh0WQAu"
    },
    {
      "cell_type": "code",
      "source": [
        "import xgboost as xgb\n",
        "from sklearn.model_selection import RandomizedSearchCV\n",
        "params = { 'max_depth': [3, 5, 6, 10, 15, 20],\n",
        "           'learning_rate': [0.01, 0.1, 0.2, 0.3],\n",
        "           'subsample': np.arange(0.5, 1.0, 0.1),\n",
        "           'colsample_bytree': np.arange(0.4, 1.0, 0.1),\n",
        "           'colsample_bylevel': np.arange(0.4, 1.0, 0.1),\n",
        "           'n_estimators': [100, 500, 1000]}\n",
        "xgbr = xgb.XGBRegressor(seed = 20)\n",
        "clf = RandomizedSearchCV(estimator=xgbr,\n",
        "                         param_distributions=params,\n",
        "                         scoring='neg_mean_squared_error',\n",
        "                         n_iter=25,\n",
        "                         verbose=1)\n",
        "clf.fit(X_train_scaled, y_train)\n",
        "print(\"Best parameters:\", clf.best_params_)\n",
        "print(\"Lowest RMSE: \", (-clf.best_score_)**(1/2.0))"
      ],
      "metadata": {
        "colab": {
          "base_uri": "https://localhost:8080/"
        },
        "id": "WE5KEEwEWQGp",
        "outputId": "e9cd0a27-0aa5-4d44-b133-0f9cd9f210f5"
      },
      "id": "WE5KEEwEWQGp",
      "execution_count": null,
      "outputs": [
        {
          "output_type": "stream",
          "name": "stdout",
          "text": [
            "Fitting 5 folds for each of 25 candidates, totalling 125 fits\n",
            "[13:20:13] WARNING: /workspace/src/objective/regression_obj.cu:152: reg:linear is now deprecated in favor of reg:squarederror.\n",
            "[13:20:36] WARNING: /workspace/src/objective/regression_obj.cu:152: reg:linear is now deprecated in favor of reg:squarederror.\n",
            "[13:20:55] WARNING: /workspace/src/objective/regression_obj.cu:152: reg:linear is now deprecated in favor of reg:squarederror.\n",
            "[13:21:13] WARNING: /workspace/src/objective/regression_obj.cu:152: reg:linear is now deprecated in favor of reg:squarederror.\n",
            "[13:21:32] WARNING: /workspace/src/objective/regression_obj.cu:152: reg:linear is now deprecated in favor of reg:squarederror.\n",
            "[13:21:50] WARNING: /workspace/src/objective/regression_obj.cu:152: reg:linear is now deprecated in favor of reg:squarederror.\n",
            "[13:22:05] WARNING: /workspace/src/objective/regression_obj.cu:152: reg:linear is now deprecated in favor of reg:squarederror.\n",
            "[13:22:21] WARNING: /workspace/src/objective/regression_obj.cu:152: reg:linear is now deprecated in favor of reg:squarederror.\n",
            "[13:22:36] WARNING: /workspace/src/objective/regression_obj.cu:152: reg:linear is now deprecated in favor of reg:squarederror.\n",
            "[13:22:52] WARNING: /workspace/src/objective/regression_obj.cu:152: reg:linear is now deprecated in favor of reg:squarederror.\n",
            "[13:23:07] WARNING: /workspace/src/objective/regression_obj.cu:152: reg:linear is now deprecated in favor of reg:squarederror.\n",
            "[13:23:24] WARNING: /workspace/src/objective/regression_obj.cu:152: reg:linear is now deprecated in favor of reg:squarederror.\n",
            "[13:23:41] WARNING: /workspace/src/objective/regression_obj.cu:152: reg:linear is now deprecated in favor of reg:squarederror.\n",
            "[13:23:58] WARNING: /workspace/src/objective/regression_obj.cu:152: reg:linear is now deprecated in favor of reg:squarederror.\n",
            "[13:24:16] WARNING: /workspace/src/objective/regression_obj.cu:152: reg:linear is now deprecated in favor of reg:squarederror.\n",
            "[13:24:34] WARNING: /workspace/src/objective/regression_obj.cu:152: reg:linear is now deprecated in favor of reg:squarederror.\n",
            "[13:24:44] WARNING: /workspace/src/objective/regression_obj.cu:152: reg:linear is now deprecated in favor of reg:squarederror.\n",
            "[13:24:54] WARNING: /workspace/src/objective/regression_obj.cu:152: reg:linear is now deprecated in favor of reg:squarederror.\n",
            "[13:25:05] WARNING: /workspace/src/objective/regression_obj.cu:152: reg:linear is now deprecated in favor of reg:squarederror.\n",
            "[13:25:15] WARNING: /workspace/src/objective/regression_obj.cu:152: reg:linear is now deprecated in favor of reg:squarederror.\n",
            "[13:25:26] WARNING: /workspace/src/objective/regression_obj.cu:152: reg:linear is now deprecated in favor of reg:squarederror.\n",
            "[13:25:33] WARNING: /workspace/src/objective/regression_obj.cu:152: reg:linear is now deprecated in favor of reg:squarederror.\n",
            "[13:25:41] WARNING: /workspace/src/objective/regression_obj.cu:152: reg:linear is now deprecated in favor of reg:squarederror.\n",
            "[13:25:48] WARNING: /workspace/src/objective/regression_obj.cu:152: reg:linear is now deprecated in favor of reg:squarederror.\n",
            "[13:25:56] WARNING: /workspace/src/objective/regression_obj.cu:152: reg:linear is now deprecated in favor of reg:squarederror.\n",
            "[13:26:03] WARNING: /workspace/src/objective/regression_obj.cu:152: reg:linear is now deprecated in favor of reg:squarederror.\n",
            "[13:26:20] WARNING: /workspace/src/objective/regression_obj.cu:152: reg:linear is now deprecated in favor of reg:squarederror.\n",
            "[13:26:37] WARNING: /workspace/src/objective/regression_obj.cu:152: reg:linear is now deprecated in favor of reg:squarederror.\n",
            "[13:26:55] WARNING: /workspace/src/objective/regression_obj.cu:152: reg:linear is now deprecated in favor of reg:squarederror.\n",
            "[13:27:14] WARNING: /workspace/src/objective/regression_obj.cu:152: reg:linear is now deprecated in favor of reg:squarederror.\n",
            "[13:27:32] WARNING: /workspace/src/objective/regression_obj.cu:152: reg:linear is now deprecated in favor of reg:squarederror.\n",
            "[13:27:33] WARNING: /workspace/src/objective/regression_obj.cu:152: reg:linear is now deprecated in favor of reg:squarederror.\n",
            "[13:27:34] WARNING: /workspace/src/objective/regression_obj.cu:152: reg:linear is now deprecated in favor of reg:squarederror.\n",
            "[13:27:34] WARNING: /workspace/src/objective/regression_obj.cu:152: reg:linear is now deprecated in favor of reg:squarederror.\n",
            "[13:27:35] WARNING: /workspace/src/objective/regression_obj.cu:152: reg:linear is now deprecated in favor of reg:squarederror.\n",
            "[13:27:36] WARNING: /workspace/src/objective/regression_obj.cu:152: reg:linear is now deprecated in favor of reg:squarederror.\n",
            "[13:27:37] WARNING: /workspace/src/objective/regression_obj.cu:152: reg:linear is now deprecated in favor of reg:squarederror.\n",
            "[13:27:39] WARNING: /workspace/src/objective/regression_obj.cu:152: reg:linear is now deprecated in favor of reg:squarederror.\n",
            "[13:27:40] WARNING: /workspace/src/objective/regression_obj.cu:152: reg:linear is now deprecated in favor of reg:squarederror.\n",
            "[13:27:42] WARNING: /workspace/src/objective/regression_obj.cu:152: reg:linear is now deprecated in favor of reg:squarederror.\n",
            "[13:27:43] WARNING: /workspace/src/objective/regression_obj.cu:152: reg:linear is now deprecated in favor of reg:squarederror.\n",
            "[13:27:53] WARNING: /workspace/src/objective/regression_obj.cu:152: reg:linear is now deprecated in favor of reg:squarederror.\n",
            "[13:28:04] WARNING: /workspace/src/objective/regression_obj.cu:152: reg:linear is now deprecated in favor of reg:squarederror.\n",
            "[13:28:14] WARNING: /workspace/src/objective/regression_obj.cu:152: reg:linear is now deprecated in favor of reg:squarederror.\n",
            "[13:28:24] WARNING: /workspace/src/objective/regression_obj.cu:152: reg:linear is now deprecated in favor of reg:squarederror.\n",
            "[13:28:35] WARNING: /workspace/src/objective/regression_obj.cu:152: reg:linear is now deprecated in favor of reg:squarederror.\n",
            "[13:28:45] WARNING: /workspace/src/objective/regression_obj.cu:152: reg:linear is now deprecated in favor of reg:squarederror.\n",
            "[13:28:55] WARNING: /workspace/src/objective/regression_obj.cu:152: reg:linear is now deprecated in favor of reg:squarederror.\n",
            "[13:29:05] WARNING: /workspace/src/objective/regression_obj.cu:152: reg:linear is now deprecated in favor of reg:squarederror.\n",
            "[13:29:16] WARNING: /workspace/src/objective/regression_obj.cu:152: reg:linear is now deprecated in favor of reg:squarederror.\n",
            "[13:29:26] WARNING: /workspace/src/objective/regression_obj.cu:152: reg:linear is now deprecated in favor of reg:squarederror.\n",
            "[13:29:35] WARNING: /workspace/src/objective/regression_obj.cu:152: reg:linear is now deprecated in favor of reg:squarederror.\n",
            "[13:29:44] WARNING: /workspace/src/objective/regression_obj.cu:152: reg:linear is now deprecated in favor of reg:squarederror.\n",
            "[13:29:54] WARNING: /workspace/src/objective/regression_obj.cu:152: reg:linear is now deprecated in favor of reg:squarederror.\n",
            "[13:30:05] WARNING: /workspace/src/objective/regression_obj.cu:152: reg:linear is now deprecated in favor of reg:squarederror.\n",
            "[13:30:15] WARNING: /workspace/src/objective/regression_obj.cu:152: reg:linear is now deprecated in favor of reg:squarederror.\n",
            "[13:30:45] WARNING: /workspace/src/objective/regression_obj.cu:152: reg:linear is now deprecated in favor of reg:squarederror.\n",
            "[13:31:15] WARNING: /workspace/src/objective/regression_obj.cu:152: reg:linear is now deprecated in favor of reg:squarederror.\n",
            "[13:31:46] WARNING: /workspace/src/objective/regression_obj.cu:152: reg:linear is now deprecated in favor of reg:squarederror.\n",
            "[13:32:16] WARNING: /workspace/src/objective/regression_obj.cu:152: reg:linear is now deprecated in favor of reg:squarederror.\n",
            "[13:32:47] WARNING: /workspace/src/objective/regression_obj.cu:152: reg:linear is now deprecated in favor of reg:squarederror.\n",
            "[13:33:07] WARNING: /workspace/src/objective/regression_obj.cu:152: reg:linear is now deprecated in favor of reg:squarederror.\n",
            "[13:33:27] WARNING: /workspace/src/objective/regression_obj.cu:152: reg:linear is now deprecated in favor of reg:squarederror.\n",
            "[13:33:47] WARNING: /workspace/src/objective/regression_obj.cu:152: reg:linear is now deprecated in favor of reg:squarederror.\n",
            "[13:34:07] WARNING: /workspace/src/objective/regression_obj.cu:152: reg:linear is now deprecated in favor of reg:squarederror.\n",
            "[13:34:28] WARNING: /workspace/src/objective/regression_obj.cu:152: reg:linear is now deprecated in favor of reg:squarederror.\n",
            "[13:34:40] WARNING: /workspace/src/objective/regression_obj.cu:152: reg:linear is now deprecated in favor of reg:squarederror.\n",
            "[13:34:52] WARNING: /workspace/src/objective/regression_obj.cu:152: reg:linear is now deprecated in favor of reg:squarederror.\n",
            "[13:35:05] WARNING: /workspace/src/objective/regression_obj.cu:152: reg:linear is now deprecated in favor of reg:squarederror.\n",
            "[13:35:19] WARNING: /workspace/src/objective/regression_obj.cu:152: reg:linear is now deprecated in favor of reg:squarederror.\n",
            "[13:35:33] WARNING: /workspace/src/objective/regression_obj.cu:152: reg:linear is now deprecated in favor of reg:squarederror.\n",
            "[13:35:36] WARNING: /workspace/src/objective/regression_obj.cu:152: reg:linear is now deprecated in favor of reg:squarederror.\n",
            "[13:35:39] WARNING: /workspace/src/objective/regression_obj.cu:152: reg:linear is now deprecated in favor of reg:squarederror.\n",
            "[13:35:41] WARNING: /workspace/src/objective/regression_obj.cu:152: reg:linear is now deprecated in favor of reg:squarederror.\n",
            "[13:35:44] WARNING: /workspace/src/objective/regression_obj.cu:152: reg:linear is now deprecated in favor of reg:squarederror.\n",
            "[13:35:47] WARNING: /workspace/src/objective/regression_obj.cu:152: reg:linear is now deprecated in favor of reg:squarederror.\n",
            "[13:35:49] WARNING: /workspace/src/objective/regression_obj.cu:152: reg:linear is now deprecated in favor of reg:squarederror.\n",
            "[13:35:52] WARNING: /workspace/src/objective/regression_obj.cu:152: reg:linear is now deprecated in favor of reg:squarederror.\n",
            "[13:35:54] WARNING: /workspace/src/objective/regression_obj.cu:152: reg:linear is now deprecated in favor of reg:squarederror.\n",
            "[13:35:57] WARNING: /workspace/src/objective/regression_obj.cu:152: reg:linear is now deprecated in favor of reg:squarederror.\n",
            "[13:35:59] WARNING: /workspace/src/objective/regression_obj.cu:152: reg:linear is now deprecated in favor of reg:squarederror.\n",
            "[13:36:00] WARNING: /workspace/src/objective/regression_obj.cu:152: reg:linear is now deprecated in favor of reg:squarederror.\n",
            "[13:36:01] WARNING: /workspace/src/objective/regression_obj.cu:152: reg:linear is now deprecated in favor of reg:squarederror.\n",
            "[13:36:01] WARNING: /workspace/src/objective/regression_obj.cu:152: reg:linear is now deprecated in favor of reg:squarederror.\n",
            "[13:36:02] WARNING: /workspace/src/objective/regression_obj.cu:152: reg:linear is now deprecated in favor of reg:squarederror.\n",
            "[13:36:03] WARNING: /workspace/src/objective/regression_obj.cu:152: reg:linear is now deprecated in favor of reg:squarederror.\n",
            "[13:36:22] WARNING: /workspace/src/objective/regression_obj.cu:152: reg:linear is now deprecated in favor of reg:squarederror.\n",
            "[13:36:42] WARNING: /workspace/src/objective/regression_obj.cu:152: reg:linear is now deprecated in favor of reg:squarederror.\n",
            "[13:37:02] WARNING: /workspace/src/objective/regression_obj.cu:152: reg:linear is now deprecated in favor of reg:squarederror.\n",
            "[13:37:22] WARNING: /workspace/src/objective/regression_obj.cu:152: reg:linear is now deprecated in favor of reg:squarederror.\n",
            "[13:37:42] WARNING: /workspace/src/objective/regression_obj.cu:152: reg:linear is now deprecated in favor of reg:squarederror.\n",
            "[13:37:53] WARNING: /workspace/src/objective/regression_obj.cu:152: reg:linear is now deprecated in favor of reg:squarederror.\n",
            "[13:38:05] WARNING: /workspace/src/objective/regression_obj.cu:152: reg:linear is now deprecated in favor of reg:squarederror.\n",
            "[13:38:16] WARNING: /workspace/src/objective/regression_obj.cu:152: reg:linear is now deprecated in favor of reg:squarederror.\n",
            "[13:38:28] WARNING: /workspace/src/objective/regression_obj.cu:152: reg:linear is now deprecated in favor of reg:squarederror.\n",
            "[13:38:40] WARNING: /workspace/src/objective/regression_obj.cu:152: reg:linear is now deprecated in favor of reg:squarederror.\n",
            "[13:38:49] WARNING: /workspace/src/objective/regression_obj.cu:152: reg:linear is now deprecated in favor of reg:squarederror.\n",
            "[13:38:59] WARNING: /workspace/src/objective/regression_obj.cu:152: reg:linear is now deprecated in favor of reg:squarederror.\n",
            "[13:39:09] WARNING: /workspace/src/objective/regression_obj.cu:152: reg:linear is now deprecated in favor of reg:squarederror.\n",
            "[13:39:19] WARNING: /workspace/src/objective/regression_obj.cu:152: reg:linear is now deprecated in favor of reg:squarederror.\n",
            "[13:39:29] WARNING: /workspace/src/objective/regression_obj.cu:152: reg:linear is now deprecated in favor of reg:squarederror.\n",
            "[13:39:30] WARNING: /workspace/src/objective/regression_obj.cu:152: reg:linear is now deprecated in favor of reg:squarederror.\n",
            "[13:39:31] WARNING: /workspace/src/objective/regression_obj.cu:152: reg:linear is now deprecated in favor of reg:squarederror.\n",
            "[13:39:31] WARNING: /workspace/src/objective/regression_obj.cu:152: reg:linear is now deprecated in favor of reg:squarederror.\n",
            "[13:39:32] WARNING: /workspace/src/objective/regression_obj.cu:152: reg:linear is now deprecated in favor of reg:squarederror.\n",
            "[13:39:33] WARNING: /workspace/src/objective/regression_obj.cu:152: reg:linear is now deprecated in favor of reg:squarederror.\n",
            "[13:39:44] WARNING: /workspace/src/objective/regression_obj.cu:152: reg:linear is now deprecated in favor of reg:squarederror.\n",
            "[13:39:54] WARNING: /workspace/src/objective/regression_obj.cu:152: reg:linear is now deprecated in favor of reg:squarederror.\n",
            "[13:40:04] WARNING: /workspace/src/objective/regression_obj.cu:152: reg:linear is now deprecated in favor of reg:squarederror.\n",
            "[13:40:15] WARNING: /workspace/src/objective/regression_obj.cu:152: reg:linear is now deprecated in favor of reg:squarederror.\n",
            "[13:40:25] WARNING: /workspace/src/objective/regression_obj.cu:152: reg:linear is now deprecated in favor of reg:squarederror.\n",
            "[13:40:34] WARNING: /workspace/src/objective/regression_obj.cu:152: reg:linear is now deprecated in favor of reg:squarederror.\n",
            "[13:40:44] WARNING: /workspace/src/objective/regression_obj.cu:152: reg:linear is now deprecated in favor of reg:squarederror.\n",
            "[13:40:54] WARNING: /workspace/src/objective/regression_obj.cu:152: reg:linear is now deprecated in favor of reg:squarederror.\n",
            "[13:41:04] WARNING: /workspace/src/objective/regression_obj.cu:152: reg:linear is now deprecated in favor of reg:squarederror.\n",
            "[13:41:13] WARNING: /workspace/src/objective/regression_obj.cu:152: reg:linear is now deprecated in favor of reg:squarederror.\n",
            "[13:41:17] WARNING: /workspace/src/objective/regression_obj.cu:152: reg:linear is now deprecated in favor of reg:squarederror.\n",
            "[13:41:22] WARNING: /workspace/src/objective/regression_obj.cu:152: reg:linear is now deprecated in favor of reg:squarederror.\n",
            "[13:41:26] WARNING: /workspace/src/objective/regression_obj.cu:152: reg:linear is now deprecated in favor of reg:squarederror.\n",
            "[13:41:30] WARNING: /workspace/src/objective/regression_obj.cu:152: reg:linear is now deprecated in favor of reg:squarederror.\n",
            "[13:41:34] WARNING: /workspace/src/objective/regression_obj.cu:152: reg:linear is now deprecated in favor of reg:squarederror.\n",
            "[13:41:37] WARNING: /workspace/src/objective/regression_obj.cu:152: reg:linear is now deprecated in favor of reg:squarederror.\n",
            "[13:41:40] WARNING: /workspace/src/objective/regression_obj.cu:152: reg:linear is now deprecated in favor of reg:squarederror.\n",
            "[13:41:43] WARNING: /workspace/src/objective/regression_obj.cu:152: reg:linear is now deprecated in favor of reg:squarederror.\n",
            "[13:41:45] WARNING: /workspace/src/objective/regression_obj.cu:152: reg:linear is now deprecated in favor of reg:squarederror.\n",
            "[13:41:48] WARNING: /workspace/src/objective/regression_obj.cu:152: reg:linear is now deprecated in favor of reg:squarederror.\n",
            "Best parameters: {'subsample': 0.8999999999999999, 'n_estimators': 1000, 'max_depth': 20, 'learning_rate': 0.01, 'colsample_bytree': 0.7, 'colsample_bylevel': 0.5}\n",
            "Lowest RMSE:  0.2463389673578116\n"
          ]
        }
      ]
    },
    {
      "cell_type": "markdown",
      "source": [
        "After LONG 22 minutes, we found the best parameters:\n",
        "{'subsample': 0.8999999999999999, 'n_estimators': 1000, 'max_depth': 20, 'learning_rate': 0.01, 'colsample_bytree': 0.7, 'colsample_bylevel': 0.5}\n",
        "\n",
        "With the lowest RMSE:  0.2463389673578116\n"
      ],
      "metadata": {
        "id": "FY1G2I6RdLIw"
      },
      "id": "FY1G2I6RdLIw"
    },
    {
      "cell_type": "markdown",
      "source": [
        "Now lets run the model with the Hyper Parameters found:\n"
      ],
      "metadata": {
        "id": "F4zdn0NHgG7r"
      },
      "id": "F4zdn0NHgG7r"
    },
    {
      "cell_type": "code",
      "source": [
        "model = XGBClassifier(subsample=0.8999999999999999,n_estimators=1000,max_depth= 20,learning_rate =0.01,colsample_bytree= 0.7,colsample_bylevel= 0.5)\n",
        "#'subsample': 0.8999999999999999, 'n_estimators': 1000, 'max_depth': 20, 'learning_rate': 0.01, 'colsample_bytree': 0.7, 'colsample_bylevel': 0.5\n",
        "clf = model.fit(X_train_scaled, y_train)\n",
        "y_pred = clf.predict(X_valid_scaled)\n",
        "result = accuracy_score(y_valid, y_pred)\n",
        "print(result)"
      ],
      "metadata": {
        "id": "STc8FVrsgKbs",
        "colab": {
          "base_uri": "https://localhost:8080/"
        },
        "outputId": "a87736cd-6913-45ed-a6e4-5c8b13279abc"
      },
      "id": "STc8FVrsgKbs",
      "execution_count": 45,
      "outputs": [
        {
          "output_type": "stream",
          "name": "stdout",
          "text": [
            "0.8667076167076168\n"
          ]
        }
      ]
    },
    {
      "cell_type": "markdown",
      "source": [
        "And we get accuracy of 0.867, an improvment from 0.812 we got when comparing the models."
      ],
      "metadata": {
        "id": "9CDtstNBgLa1"
      },
      "id": "9CDtstNBgLa1"
    },
    {
      "cell_type": "markdown",
      "source": [
        "\"subsample\" is the fraction of the training samples (randomly selected) that will be used to train each tree.\n",
        "\n",
        "\"colsample_by_tree\" is the fraction of features (randomly selected) that will be used to train each tree.\n",
        "\n",
        "\"colsample_bylevel\" is the fraction of features (randomly selected) that will be used in each node to train each tree.\n",
        "\n",
        "\"n_estimators\" is the number of runs XGBoost will try to learn\n",
        "\n",
        "\"learning_rate\" is the learning speed"
      ],
      "metadata": {
        "id": "VhSEp_TEc6Hs"
      },
      "id": "VhSEp_TEc6Hs"
    }
  ],
  "metadata": {
    "interpreter": {
      "hash": "aee8b7b246df8f9039afb4144a1f6fd8d2ca17a180786b69acc140d282b71a49"
    },
    "kernelspec": {
      "display_name": "Python 3.9.0 64-bit",
      "language": "python",
      "name": "python3"
    },
    "language_info": {
      "codemirror_mode": {
        "name": "ipython",
        "version": 3
      },
      "file_extension": ".py",
      "mimetype": "text/x-python",
      "name": "python",
      "nbconvert_exporter": "python",
      "pygments_lexer": "ipython3",
      "version": "3.9.0"
    },
    "colab": {
      "name": "AML-task2.ipynb",
      "provenance": [],
      "collapsed_sections": []
    }
  },
  "nbformat": 4,
  "nbformat_minor": 5
}